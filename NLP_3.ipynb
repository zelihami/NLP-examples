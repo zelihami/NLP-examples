{
  "nbformat": 4,
  "nbformat_minor": 0,
  "metadata": {
    "colab": {
      "provenance": [],
      "authorship_tag": "ABX9TyPCxXGp/RWX5VqZAZ2JzCPV",
      "include_colab_link": true
    },
    "kernelspec": {
      "name": "python3",
      "display_name": "Python 3"
    },
    "language_info": {
      "name": "python"
    }
  },
  "cells": [
    {
      "cell_type": "markdown",
      "metadata": {
        "id": "view-in-github",
        "colab_type": "text"
      },
      "source": [
        "<a href=\"https://colab.research.google.com/github/zelihami/NLP-examples/blob/main/NLP_3.ipynb\" target=\"_parent\"><img src=\"https://colab.research.google.com/assets/colab-badge.svg\" alt=\"Open In Colab\"/></a>"
      ]
    },
    {
      "cell_type": "markdown",
      "source": [
        "\n",
        "Task 3. By selecting 2 corpora prepared for different purposes, some basic features\n",
        "(unigram, bigam, trigram numbers, POS-Tag variety numbers etc.) should be compared\n",
        "and interpreted. The differences between the corpora and the relation between the\n",
        "preparation purposes of the corpora should be examined."
      ],
      "metadata": {
        "id": "PvJoiwZZxa_H"
      }
    },
    {
      "cell_type": "code",
      "execution_count": 1,
      "metadata": {
        "id": "-dK6EQ-7BzX8"
      },
      "outputs": [],
      "source": [
        "import nltk"
      ]
    },
    {
      "cell_type": "code",
      "source": [
        "from nltk.corpus import webtext,gutenberg\n",
        "nltk.download(\"stopwords\")\n",
        "from nltk.corpus import stopwords\n",
        "from nltk.tokenize import word_tokenize, sent_tokenize\n",
        "from nltk import pos_tag\n",
        "import string\n",
        "nltk.download('punkt')\n",
        "from nltk.util import ngrams\n",
        "from collections import Counter\n",
        "nltk.download('averaged_perceptron_tagger')\n",
        "import nltk,collections\n"
      ],
      "metadata": {
        "colab": {
          "base_uri": "https://localhost:8080/"
        },
        "id": "5a667JCCEY99",
        "outputId": "90678782-e27b-4782-bbe4-352355059b43"
      },
      "execution_count": 2,
      "outputs": [
        {
          "output_type": "stream",
          "name": "stderr",
          "text": [
            "[nltk_data] Downloading package stopwords to /root/nltk_data...\n",
            "[nltk_data]   Unzipping corpora/stopwords.zip.\n",
            "[nltk_data] Downloading package punkt to /root/nltk_data...\n",
            "[nltk_data]   Unzipping tokenizers/punkt.zip.\n",
            "[nltk_data] Downloading package averaged_perceptron_tagger to\n",
            "[nltk_data]     /root/nltk_data...\n",
            "[nltk_data]   Unzipping taggers/averaged_perceptron_tagger.zip.\n"
          ]
        }
      ]
    },
    {
      "cell_type": "code",
      "source": [
        "nltk.download('webtext') # first corpus that ı used"
      ],
      "metadata": {
        "colab": {
          "base_uri": "https://localhost:8080/"
        },
        "id": "uQ8dcFwOEcR1",
        "outputId": "82cdd536-a7af-402d-d0ef-094b8818bd2a"
      },
      "execution_count": 5,
      "outputs": [
        {
          "output_type": "stream",
          "name": "stderr",
          "text": [
            "[nltk_data] Downloading package webtext to /root/nltk_data...\n",
            "[nltk_data]   Unzipping corpora/webtext.zip.\n"
          ]
        },
        {
          "output_type": "execute_result",
          "data": {
            "text/plain": [
              "True"
            ]
          },
          "metadata": {},
          "execution_count": 5
        }
      ]
    },
    {
      "cell_type": "code",
      "source": [
        "corpus1=webtext.raw()"
      ],
      "metadata": {
        "id": "QBLZh0niJLY2"
      },
      "execution_count": 6,
      "outputs": []
    },
    {
      "cell_type": "code",
      "source": [
        "nltk.download('gutenberg') # second corpus"
      ],
      "metadata": {
        "colab": {
          "base_uri": "https://localhost:8080/"
        },
        "id": "mC8mRXGHJWCW",
        "outputId": "61353e2d-9291-44db-bfac-8d5230f5f06a"
      },
      "execution_count": 7,
      "outputs": [
        {
          "output_type": "stream",
          "name": "stderr",
          "text": [
            "[nltk_data] Downloading package gutenberg to /root/nltk_data...\n",
            "[nltk_data]   Unzipping corpora/gutenberg.zip.\n"
          ]
        },
        {
          "output_type": "execute_result",
          "data": {
            "text/plain": [
              "True"
            ]
          },
          "metadata": {},
          "execution_count": 7
        }
      ]
    },
    {
      "cell_type": "code",
      "source": [
        "corpus2 = gutenberg.raw()"
      ],
      "metadata": {
        "id": "vLIAUseJJtSz"
      },
      "execution_count": 8,
      "outputs": []
    },
    {
      "cell_type": "code",
      "source": [
        "corpus1=corpus1.lower()\n",
        "corpus2=corpus2.lower()"
      ],
      "metadata": {
        "id": "E9xVwKmbJ6kz"
      },
      "execution_count": null,
      "outputs": []
    },
    {
      "cell_type": "code",
      "source": [
        "corpus1[:100]"
      ],
      "metadata": {
        "colab": {
          "base_uri": "https://localhost:8080/",
          "height": 36
        },
        "id": "5cTRh3hvMkfY",
        "outputId": "52082b18-d63d-4ef3-f225-0c9b2e50b253"
      },
      "execution_count": 10,
      "outputs": [
        {
          "output_type": "execute_result",
          "data": {
            "text/plain": [
              "'Cookie Manager: \"Don\\'t allow sites that set removed cookies to set future cookies\" should stay check'"
            ],
            "application/vnd.google.colaboratory.intrinsic+json": {
              "type": "string"
            }
          },
          "metadata": {},
          "execution_count": 10
        }
      ]
    },
    {
      "cell_type": "code",
      "source": [
        "def delete_punc(data): # ı delete punctuation cuz ı dont need them\n",
        "  text= data.translate(str.maketrans(\"\", \"\", string.punctuation))\n",
        "  return text"
      ],
      "metadata": {
        "id": "stw9pN6UMC17"
      },
      "execution_count": 11,
      "outputs": []
    },
    {
      "cell_type": "code",
      "source": [
        "stop_words = set(stopwords.words('english'))"
      ],
      "metadata": {
        "id": "OgzXWVsVMwCg"
      },
      "execution_count": 12,
      "outputs": []
    },
    {
      "cell_type": "code",
      "source": [
        "def delete_words(data): # ı delete sop words\n",
        "    words = data.split()\n",
        "    filtered_words = [word for word in words if word not in (stop_words)]\n",
        "    return ' '.join(filtered_words)"
      ],
      "metadata": {
        "id": "6PJ71cq4NdgJ"
      },
      "execution_count": 13,
      "outputs": []
    },
    {
      "cell_type": "code",
      "source": [
        "corpus1 = delete_words(corpus1)\n",
        "corpus1=delete_punc(corpus1)"
      ],
      "metadata": {
        "id": "DcOE_QxyNm1S"
      },
      "execution_count": 14,
      "outputs": []
    },
    {
      "cell_type": "code",
      "source": [
        "corpus2=delete_words(corpus2)\n",
        "corpus2=delete_punc(corpus2)"
      ],
      "metadata": {
        "id": "6yk3WTJtKS9u"
      },
      "execution_count": 15,
      "outputs": []
    },
    {
      "cell_type": "code",
      "source": [
        "bigrams_corpus1 = list(ngrams(word_tokenize(corpus1),2))\n",
        "trigrams_corpus1 = list(ngrams(word_tokenize(corpus1),3))"
      ],
      "metadata": {
        "id": "rDe2iw4WQZDT"
      },
      "execution_count": 16,
      "outputs": []
    },
    {
      "cell_type": "code",
      "source": [
        "def find_two_grams(sentence): # finding bigrams\n",
        "  words = sentence.split()\n",
        "  two_grams=[]\n",
        "  bigrams = list(ngrams(words, 2))\n",
        "  counter=collections.Counter(bigrams)\n",
        "  for word, frequency in counter.items():\n",
        "        if frequency > 5:\n",
        "           two_grams.append(word)\n",
        "\n",
        "  return two_grams"
      ],
      "metadata": {
        "id": "_UZ4XiDhXu2u"
      },
      "execution_count": 17,
      "outputs": []
    },
    {
      "cell_type": "code",
      "source": [
        "find_two_grams(corpus1)[:30]"
      ],
      "metadata": {
        "colab": {
          "base_uri": "https://localhost:8080/"
        },
        "id": "15Od5ZESQvRF",
        "outputId": "8f895242-b394-49bb-bbf3-ee535029f468"
      },
      "execution_count": 26,
      "outputs": [
        {
          "output_type": "execute_result",
          "data": {
            "text/plain": [
              "[('Cookie', 'Manager'),\n",
              " ('full', 'screen'),\n",
              " ('screen', 'mode'),\n",
              " ('open', 'new'),\n",
              " ('new', 'browser'),\n",
              " ('download', 'dialog'),\n",
              " ('context', 'menu'),\n",
              " ('tab', 'bar'),\n",
              " ('toolbar', 'customization'),\n",
              " ('small', 'icons'),\n",
              " ('nightly', 'builds'),\n",
              " ('keyboard', 'shortcut'),\n",
              " ('back', 'buttons'),\n",
              " ('back', 'button'),\n",
              " ('even', 'though'),\n",
              " ('current', 'page'),\n",
              " ('menu', 'broken'),\n",
              " ('Mozilla', 'Firebird'),\n",
              " ('Firebird', 'Help'),\n",
              " ('manage', 'bookmarks'),\n",
              " ('Quick', 'Launch'),\n",
              " ('Go', 'menu'),\n",
              " ('view', 'source'),\n",
              " ('download', 'manager'),\n",
              " ('Add', 'Bookmark'),\n",
              " ('Bookmark', 'dialog'),\n",
              " ('Bookmarks', 'Manager'),\n",
              " ('customize', 'toolbar'),\n",
              " ('proxy', 'server'),\n",
              " ('Mozilla', 'Firefox')]"
            ]
          },
          "metadata": {},
          "execution_count": 26
        }
      ]
    },
    {
      "cell_type": "code",
      "source": [
        "def find_tri_grams(sentence): # finding tri grams\n",
        "  words = sentence.split()\n",
        "  tri_grams=[]\n",
        "  trigrams = list(ngrams(words, 3))\n",
        "  counter=collections.Counter(trigrams)\n",
        "  for word, frequency in counter.items():\n",
        "        if frequency > 5:\n",
        "           tri_grams.append(word)\n",
        "\n",
        "  return tri_grams"
      ],
      "metadata": {
        "id": "FMeCZo_lRwAM"
      },
      "execution_count": 19,
      "outputs": []
    },
    {
      "cell_type": "code",
      "source": [
        "find_tri_grams(corpus1)[:30]"
      ],
      "metadata": {
        "colab": {
          "base_uri": "https://localhost:8080/"
        },
        "id": "F97HB7e8THZn",
        "outputId": "429e8534-f6f9-42b5-e600-4792284a737d"
      },
      "execution_count": 25,
      "outputs": [
        {
          "output_type": "execute_result",
          "data": {
            "text/plain": [
              "[('full', 'screen', 'mode'),\n",
              " ('Add', 'Bookmark', 'dialog'),\n",
              " ('open', 'new', 'tab'),\n",
              " ('opens', 'new', 'window'),\n",
              " ('open', 'new', 'window'),\n",
              " ('bookmark', 'toolbar', 'folder'),\n",
              " ('add', 'bookmark', 'dialog'),\n",
              " ('Save', 'Page', 'As'),\n",
              " ('Bookmarks', 'Toolbar', 'Folder'),\n",
              " ('Find', 'This', 'Page'),\n",
              " ('middle', 'mouse', 'button'),\n",
              " ('one', 'tab', 'open'),\n",
              " ('rightclick', 'context', 'menu'),\n",
              " ('Save', 'Image', 'As'),\n",
              " ('Mac', 'OS', 'X'),\n",
              " ('open', 'link', 'new'),\n",
              " ('link', 'new', 'tab'),\n",
              " ('View', 'Page', 'Source'),\n",
              " ('opening', 'new', 'window'),\n",
              " ('multiple', 'tabs', 'open'),\n",
              " ('XML', 'Parsing', 'Error'),\n",
              " ('crashes', 'I', 'try'),\n",
              " ('view', 'page', 'source'),\n",
              " ('Page', 'Info', 'dialog'),\n",
              " ('XML', 'parsing', 'error'),\n",
              " ('right', 'click', 'menu'),\n",
              " ('bookmarks', 'toolbar', 'folder'),\n",
              " ('OK', 'button', 'work'),\n",
              " ('opening', 'new', 'tab'),\n",
              " ('opens', 'new', 'tab')]"
            ]
          },
          "metadata": {},
          "execution_count": 25
        }
      ]
    },
    {
      "cell_type": "code",
      "source": [
        "find_two_grams(corpus2)[:30]"
      ],
      "metadata": {
        "colab": {
          "base_uri": "https://localhost:8080/"
        },
        "id": "UO-N3Wf_TKlQ",
        "outputId": "a6955cec-f084-4266-f723-8fc2e03a4989"
      },
      "execution_count": 24,
      "outputs": [
        {
          "output_type": "execute_result",
          "data": {
            "text/plain": [
              "[('CHAPTER', 'I'),\n",
              " ('her', 'She'),\n",
              " ('two', 'daughters'),\n",
              " ('Her', 'mother'),\n",
              " ('mother', 'died'),\n",
              " ('long', 'ago'),\n",
              " ('Miss', 'Taylor'),\n",
              " ('Mr', 'Woodhouses'),\n",
              " ('passed', 'away'),\n",
              " ('Miss', 'Taylors'),\n",
              " ('own', 'The'),\n",
              " ('The', 'real'),\n",
              " ('rather', 'much'),\n",
              " ('much', 'way'),\n",
              " ('think', 'little'),\n",
              " ('Her', 'father'),\n",
              " ('The', 'event'),\n",
              " ('friend', 'Mr'),\n",
              " ('Mr', 'Weston'),\n",
              " ('mornings', 'work'),\n",
              " ('her', 'The'),\n",
              " ('would', 'felt'),\n",
              " ('felt', 'every'),\n",
              " ('every', 'hour'),\n",
              " ('hour', 'every'),\n",
              " ('every', 'day'),\n",
              " ('day', 'She'),\n",
              " ('five', 'years'),\n",
              " ('A', 'large'),\n",
              " ('seven', 'years')]"
            ]
          },
          "metadata": {},
          "execution_count": 24
        }
      ]
    },
    {
      "cell_type": "code",
      "source": [
        "find_tri_grams(corpus2)[:30]"
      ],
      "metadata": {
        "colab": {
          "base_uri": "https://localhost:8080/"
        },
        "id": "zNWrwwZAYSl-",
        "outputId": "03f34dbf-eb25-4e8a-969b-cb7acef190b0"
      },
      "execution_count": 23,
      "outputs": [
        {
          "output_type": "execute_result",
          "data": {
            "text/plain": [
              "[('I', 'doubt', 'whether'),\n",
              " ('obliged', 'you', 'I'),\n",
              " ('I', 'glad', 'I'),\n",
              " ('poor', 'Miss', 'Taylor'),\n",
              " ('I', 'wish', 'may'),\n",
              " ('said', 'Mr', 'Woodhouse'),\n",
              " ('I', 'afraid', 'I'),\n",
              " ('think', 'I', 'could'),\n",
              " ('said', 'Mr', 'Knightley'),\n",
              " ('I', 'shall', 'happy'),\n",
              " ('said', 'Mr', 'Weston'),\n",
              " ('I', 'wish', 'would'),\n",
              " ('think', 'I', 'shall'),\n",
              " ('I', 'shall', 'leave'),\n",
              " ('I', 'think', 'would'),\n",
              " ('I', 'know', 'I'),\n",
              " ('I', 'think', 'must'),\n",
              " ('him', 'I', 'think'),\n",
              " ('young', 'man', 'I'),\n",
              " ('I', 'dare', 'say'),\n",
              " ('Depend', 'upon', 'it'),\n",
              " ('great', 'deal', 'better'),\n",
              " ('fine', 'young', 'man'),\n",
              " ('Mr', 'Frank', 'Churchill'),\n",
              " ('Mrs', 'Miss', 'Bates'),\n",
              " ('Mrs', 'Weston', 'I'),\n",
              " ('I', 'think', 'could'),\n",
              " ('every', 'thing', 'else'),\n",
              " ('And', 'I', 'know'),\n",
              " ('I', 'feel', 'I')]"
            ]
          },
          "metadata": {},
          "execution_count": 23
        }
      ]
    },
    {
      "cell_type": "markdown",
      "source": [
        "**POS-TAG**"
      ],
      "metadata": {
        "id": "oW3CMxJfMAp8"
      }
    },
    {
      "cell_type": "code",
      "source": [
        "tags = Counter(nltk.pos_tag(word_tokenize(corpus1))) # define pos tag\n",
        "print(\"Post Tags\")\n",
        "for tag,count in tags.most_common(100):\n",
        "    print(tag,count)"
      ],
      "metadata": {
        "colab": {
          "base_uri": "https://localhost:8080/"
        },
        "id": "r3ot6tEMTTeV",
        "outputId": "3540a6e5-f178-4f12-ae05-ede2d4ad30fd"
      },
      "execution_count": null,
      "outputs": [
        {
          "output_type": "stream",
          "name": "stdout",
          "text": [
            "Post Tags\n",
            "('guy', 'NN') 2097\n",
            "('1', 'CD') 2092\n",
            "('2', 'CD') 1645\n",
            "('girl', 'NN') 1577\n",
            "('like', 'IN') 1530\n",
            "('man', 'NN') 1049\n",
            "('woman', 'NN') 991\n",
            "('page', 'NN') 796\n",
            "('new', 'JJ') 775\n",
            "('know', 'VBP') 678\n",
            "('one', 'CD') 669\n",
            "('no', 'DT') 649\n",
            "('im', 'NN') 629\n",
            "('good', 'JJ') 627\n",
            "('open', 'JJ') 611\n",
            "('girl', 'JJ') 611\n",
            "('you', 'PRP') 571\n",
            "('well', 'RB') 564\n",
            "('it', 'PRP') 543\n",
            "('yeah', 'NN') 539\n",
            "('cell', 'NN') 536\n",
            "('bar', 'NN') 509\n",
            "('me', 'PRP') 508\n",
            "('teen', 'JJ') 502\n",
            "('get', 'VB') 486\n",
            "('really', 'RB') 469\n",
            "('got', 'VBD') 460\n",
            "('bookmarks', 'NNS') 456\n",
            "('window', 'NN') 454\n",
            "('going', 'VBG') 447\n",
            "('work', 'NN') 437\n",
            "('thats', 'NNS') 428\n",
            "('time', 'NN') 423\n",
            "('old', 'JJ') 421\n",
            "('black', 'JJ') 417\n",
            "('manager', 'NN') 416\n",
            "('little', 'JJ') 409\n",
            "('jack', 'NN') 409\n",
            "('toolbar', 'NN') 389\n",
            "('would', 'MD') 386\n",
            "('chick', 'NN') 385\n",
            "('bookmark', 'NN') 381\n",
            "('want', 'VBP') 380\n",
            "('url', 'JJ') 365\n",
            "('back', 'RB') 363\n",
            "('people', 'NNS') 359\n",
            "('menu', 'NN') 358\n",
            "('firefox', 'NN') 357\n",
            "('tab', 'NN') 354\n",
            "('download', 'NN') 342\n",
            "('not', 'RB') 338\n",
            "('button', 'NN') 335\n",
            "('think', 'VBP') 328\n",
            "('lady', 'NN') 319\n",
            "('crash', 'NN') 317\n",
            "('im', 'JJ') 317\n",
            "('crashes', 'NNS') 311\n",
            "('quite', 'RB') 311\n",
            "('white', 'JJ') 310\n",
            "('go', 'VBP') 298\n",
            "('browser', 'NN') 291\n",
            "('cant', 'JJ') 291\n",
            "('dialog', 'NN') 284\n",
            "('even', 'RB') 283\n",
            "('guy', 'JJ') 282\n",
            "('boy', 'NN') 280\n",
            "('could', 'MD') 277\n",
            "('fruit', 'NN') 276\n",
            "('na', 'TO') 273\n",
            "('file', 'NN') 263\n",
            "('firebird', 'NN') 261\n",
            "('still', 'RB') 261\n",
            "('using', 'VBG') 259\n",
            "('two', 'CD') 258\n",
            "('girl', 'VBP') 256\n",
            "('firefox', 'JJ') 254\n",
            "('can', 'MD') 249\n",
            "('nice', 'JJ') 247\n",
            "('top', 'JJ') 246\n",
            "('error', 'NN') 246\n",
            "('way', 'NN') 240\n",
            "('go', 'VB') 239\n",
            "('hes', 'NNS') 236\n",
            "('right', 'JJ') 235\n",
            "('what', 'WP') 234\n",
            "('mom', 'NN') 232\n",
            "('oh', 'JJ') 231\n",
            "('something', 'NN') 230\n",
            "('default', 'NN') 224\n",
            "('windows', 'NNS') 224\n",
            "('dude', 'NN') 223\n",
            "('never', 'RB') 222\n",
            "('say', 'VBP') 219\n",
            "('said', 'VBD') 219\n",
            "('cant', 'NN') 216\n",
            "('search', 'NN') 215\n",
            "('last', 'JJ') 214\n",
            "('right', 'RB') 213\n",
            "('always', 'RB') 212\n",
            "('firebird', 'JJ') 212\n"
          ]
        }
      ]
    },
    {
      "cell_type": "code",
      "source": [],
      "metadata": {
        "id": "1240IgUhUXTJ"
      },
      "execution_count": null,
      "outputs": []
    }
  ]
}
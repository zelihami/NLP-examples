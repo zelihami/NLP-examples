{
  "nbformat": 4,
  "nbformat_minor": 0,
  "metadata": {
    "colab": {
      "provenance": [],
      "authorship_tag": "ABX9TyNkYhl7tjbv/NRh4jWX3u7m",
      "include_colab_link": true
    },
    "kernelspec": {
      "name": "python3",
      "display_name": "Python 3"
    },
    "language_info": {
      "name": "python"
    }
  },
  "cells": [
    {
      "cell_type": "markdown",
      "metadata": {
        "id": "view-in-github",
        "colab_type": "text"
      },
      "source": [
        "<a href=\"https://colab.research.google.com/github/zelihami/NLP-examples/blob/main/NLP_2.ipynb\" target=\"_parent\"><img src=\"https://colab.research.google.com/assets/colab-badge.svg\" alt=\"Open In Colab\"/></a>"
      ]
    },
    {
      "cell_type": "markdown",
      "source": [
        "**Task 2. Using N-gram analysis, list all 2-grams and 3-grams according to a certain\n",
        "threshold (eg, more than 5 in frequency) in a Turkish corpus.**\n",
        "video: https://youtu.be/zZyO408gcNA"
      ],
      "metadata": {
        "id": "17l86gfuqzH2"
      }
    },
    {
      "cell_type": "code",
      "execution_count": 1,
      "metadata": {
        "id": "wtQAVmg6yD2-"
      },
      "outputs": [],
      "source": [
        "import nltk,collections # necesarry libraries\n",
        "from nltk import word_tokenize\n",
        "from nltk.util import ngrams\n",
        "from collections import Counter"
      ]
    },
    {
      "cell_type": "code",
      "source": [
        "f=open(\"tur_wikipedia_2021_10K-sentences.txt\",\"r\",encoding=\"utf-8\") # the corpus that ı used\n",
        "data=f.read()"
      ],
      "metadata": {
        "id": "EArxI2GiR8HP"
      },
      "execution_count": 2,
      "outputs": []
    },
    {
      "cell_type": "markdown",
      "source": [
        "corpus link :https://wortschatz.uni-leipzig.de/en/download/Turkish\n"
      ],
      "metadata": {
        "id": "LPA9vx7zJURY"
      }
    },
    {
      "cell_type": "code",
      "source": [
        "data[0:100]"
      ],
      "metadata": {
        "colab": {
          "base_uri": "https://localhost:8080/",
          "height": 36
        },
        "id": "Ti2z6GUGSB6O",
        "outputId": "3a7c7032-8c9d-4659-e1b5-e6fdcfbd29d0"
      },
      "execution_count": 3,
      "outputs": [
        {
          "output_type": "execute_result",
          "data": {
            "text/plain": [
              "'1\\t%2,47 oy alarak son sırada kaldı.\\n2\\t; 4.500 asker, üç amfibi taburu, bir ana muharebe tankı taburu'"
            ],
            "application/vnd.google.colaboratory.intrinsic+json": {
              "type": "string"
            }
          },
          "metadata": {},
          "execution_count": 3
        }
      ]
    },
    {
      "cell_type": "code",
      "source": [
        "\n",
        "def find_two_grams(sentence,threshold):\n",
        "  words = sentence.split() # ı split the sentences\n",
        "  two_grams=[] # empty list for bigrams\n",
        "  bigrams = list(ngrams(words, 2)) #ı used ngrams function to make n gram analyze\n",
        "  counter=collections.Counter(bigrams) # calculation the frequency of bigrams by creating a Counter object.\n",
        "  for word, frequency in counter.items(): # Selection bigrams with a frequency higher than the threshold and add them to the 'two_grams' list.\n",
        "        if frequency > threshold:\n",
        "           two_grams.append(word)\n",
        "\n",
        "  return two_grams"
      ],
      "metadata": {
        "id": "UncdRB9OIhCh"
      },
      "execution_count": null,
      "outputs": []
    },
    {
      "cell_type": "code",
      "source": [
        "\n",
        "def find_tri_grams(sentence,threshold): # same like find_two_grams but ı changed ngrams parameter as 3. Because ı try to find trigrams\n",
        "  words = sentence.split()\n",
        "  tri_grams=[]\n",
        "  trigrams = list(ngrams(words, 3))\n",
        "  counter=collections.Counter(trigrams)\n",
        "  for word, frequency in counter.items():\n",
        "        if frequency > threshold:\n",
        "           tri_grams.append(word)\n",
        "\n",
        "  return tri_grams"
      ],
      "metadata": {
        "id": "GwLcvQK2QT7m"
      },
      "execution_count": null,
      "outputs": []
    },
    {
      "cell_type": "code",
      "source": [
        "find_two_grams(data,10) #results"
      ],
      "metadata": {
        "colab": {
          "base_uri": "https://localhost:8080/"
        },
        "id": "UcdkNu5ZIzfl",
        "outputId": "2a1ec44a-0d8e-41df-834f-992fb7a35e1a"
      },
      "execution_count": null,
      "outputs": [
        {
          "output_type": "execute_result",
          "data": {
            "text/plain": [
              "[('ve', 'diğer'),\n",
              " ('ile', 'ilgili'),\n",
              " ('dünyaya', 'geldi.'),\n",
              " ('ve', 'bu'),\n",
              " ('bu', 'yüzden'),\n",
              " ('büyük', 'bir'),\n",
              " ('bir', 'kısmı'),\n",
              " ('devam', 'eden'),\n",
              " ('için', 'bir'),\n",
              " ('daha', 'küçük'),\n",
              " ('her', 'iki'),\n",
              " ('daha', 'büyük'),\n",
              " ('pek', 'çok'),\n",
              " ('belirli', 'bir'),\n",
              " ('biri', 'olan'),\n",
              " ('mezun', 'oldu.'),\n",
              " ('il', 'merkezine'),\n",
              " ('km', 'uzaklıktadır.'),\n",
              " ('olan', 've'),\n",
              " ('küçük', 'bir'),\n",
              " ('ya', 'da'),\n",
              " ('etmek', 'için'),\n",
              " ('tespit', 'edilmiştir.'),\n",
              " ('dahil', 'olmak'),\n",
              " ('olmak', 'üzere'),\n",
              " ('ile', 'birlikte'),\n",
              " ('bir', 'şekilde'),\n",
              " ('daha', 'sonra'),\n",
              " ('olmasına', 'rağmen'),\n",
              " ('en', 'büyük'),\n",
              " ('ve', 'en'),\n",
              " ('ilk', 'kez'),\n",
              " ('sadece', 'bir'),\n",
              " ('devam', 'etti.'),\n",
              " ('ilçe', 'merkezine'),\n",
              " ('ilk', 'olarak'),\n",
              " ('daha', 'çok'),\n",
              " ('ev', 'sahipliği'),\n",
              " ('etti', 've'),\n",
              " ('ve', 'bir'),\n",
              " ('hem', 'de'),\n",
              " ('yer', 'aldı.'),\n",
              " ('daha', 'önce'),\n",
              " ('yer', 'alan'),\n",
              " ('en', 'çok'),\n",
              " ('sahip', 'olan'),\n",
              " ('bir', 'dizi'),\n",
              " ('forma', 'giydi.'),\n",
              " ('ek', 'olarak'),\n",
              " ('olduğu', 'için'),\n",
              " ('anlamına', 'gelen'),\n",
              " ('yeni', 'bir'),\n",
              " ('her', 'yıl'),\n",
              " ('bir', 'başka'),\n",
              " ('en', 'iyi'),\n",
              " ('olduğu', 'gibi'),\n",
              " ('ile', 'bir'),\n",
              " ('arasında', 'bir'),\n",
              " ('olduğunu', 've'),\n",
              " ('Amerika', 'Birleşik'),\n",
              " ('biri', 'olarak'),\n",
              " ('arasında', 'yer'),\n",
              " ('olarak', 'görev'),\n",
              " ('yer', 'alır.'),\n",
              " ('da', 'bu'),\n",
              " ('bir', 'süre'),\n",
              " ('yıl', 'sonra'),\n",
              " ('bir', 'araya'),\n",
              " ('ortaya', 'çıkan'),\n",
              " ('uzun', 'bir'),\n",
              " ('almak', 'için'),\n",
              " ('ve', 'o'),\n",
              " ('başka', 'bir'),\n",
              " ('zorunda', 'kaldı.'),\n",
              " ('her', 'zaman'),\n",
              " ('büyük', 'ölçüde'),\n",
              " ('en', 'önemli'),\n",
              " ('bu', 'dönemde'),\n",
              " ('olarak', 'kabul'),\n",
              " ('yanı', 'sıra'),\n",
              " ('farklı', 'bir'),\n",
              " ('olan', 'bir'),\n",
              " ('geniş', 'bir'),\n",
              " ('olan', 'bu'),\n",
              " ('ve', 'daha'),\n",
              " ('sık', 'sık'),\n",
              " ('ve', 'iki'),\n",
              " ('yılları', 'arasında'),\n",
              " ('kabul', 'edilmektedir.'),\n",
              " ('özel', 'bir'),\n",
              " ('en', 'yüksek'),\n",
              " ('adlı', 'bir'),\n",
              " ('nüfusu', '2010'),\n",
              " ('2010', 'yılı'),\n",
              " ('önemli', 'bir'),\n",
              " ('bu', 'da'),\n",
              " ('yıl', 'boyunca'),\n",
              " ('oldu', 've'),\n",
              " ('ve', 'onu'),\n",
              " ('bağlı', 'olarak'),\n",
              " ('en', 'eski'),\n",
              " ('yol', 'açtı.'),\n",
              " ('yer', 'almaktadır.'),\n",
              " ('daha', 'iyi'),\n",
              " ('hemen', 'hemen'),\n",
              " ('kısa', 'bir'),\n",
              " ('anlamına', 'gelir.'),\n",
              " ('ancak', 'bu'),\n",
              " ('meydana', 'gelen'),\n",
              " ('Aynı', 'yıl'),\n",
              " ('olarak', 'bilinen'),\n",
              " ('Aynı', 'zamanda'),\n",
              " ('iyi', 'bir'),\n",
              " ('güçlü', 'bir'),\n",
              " ('kabul', 'edilir.'),\n",
              " ('adı', 'verilen'),\n",
              " ('için', 'de'),\n",
              " ('yılı', 'itibarıyla'),\n",
              " ('olarak', 'da'),\n",
              " ('tek', 'bir'),\n",
              " ('çok', 'sayıda'),\n",
              " ('daha', 'fazla'),\n",
              " ('yer', 'almıştır.'),\n",
              " ('tarihi', 'itibarıyla'),\n",
              " ('sayımına', 'göre'),\n",
              " ('ve', 'aynı'),\n",
              " ('süre', 'sonra'),\n",
              " ('aldı', 've'),\n",
              " ('herhangi', 'bir'),\n",
              " ('ve', 'her'),\n",
              " ('en', 'fazla'),\n",
              " ('ne', 'kadar'),\n",
              " ('adında', 'bir'),\n",
              " ('olarak', 'adlandırılır.'),\n",
              " ('de', 'bu'),\n",
              " ('tam', 'olarak'),\n",
              " ('aynı', 'zamanda'),\n",
              " ('devam', 'eder.'),\n",
              " ('zaman', 'zaman'),\n",
              " ('benzer', 'bir'),\n",
              " ('nüfusu', '2011'),\n",
              " ('sonra', 'da'),\n",
              " ('ilk', 'defa'),\n",
              " ('elde', 'etti.'),\n",
              " ('ortaya', 'çıktı.'),\n",
              " ('devam', 'etmektedir.'),\n",
              " ('Bu', 'dönemde'),\n",
              " ('çok', 'daha'),\n",
              " ('Bu', 'durum'),\n",
              " ('bir', 'kez'),\n",
              " ('daha', 'az'),\n",
              " ('bir', 'parçası'),\n",
              " ('yılına', 'kadar'),\n",
              " ('en', 'az'),\n",
              " ('bu', 'yana'),\n",
              " ('Bu', 'nedenle'),\n",
              " ('Bununla', 'birlikte,'),\n",
              " ('Bunun', 'üzerine'),\n",
              " ('Bu', 'yüzden'),\n",
              " ('bulunan', 'bir'),\n",
              " ('Daha', 'sonra'),\n",
              " ('En', 'İyi'),\n",
              " ('31', 'Aralık'),\n",
              " ('İlçenin', 'nüfusu'),\n",
              " ('2010', 'sayımına'),\n",
              " ('Komünün', 'nüfusu'),\n",
              " ('2011', 'yılı'),\n",
              " ('yılı', 'itibarı'),\n",
              " ('itibarı', 'ile'),\n",
              " ('olarak', 'tespit'),\n",
              " ('2009', 'tarihinde'),\n",
              " ('nüfusu', '26'),\n",
              " ('26', 'Kasım'),\n",
              " ('Kasım', '2009'),\n",
              " ('Şehrin', 'nüfusu'),\n",
              " ('km²', 'olan')]"
            ]
          },
          "metadata": {},
          "execution_count": 20
        }
      ]
    },
    {
      "cell_type": "code",
      "source": [
        "find_tri_grams(data,10)"
      ],
      "metadata": {
        "colab": {
          "base_uri": "https://localhost:8080/"
        },
        "id": "gpv4fLAAPxTk",
        "outputId": "beb9144f-347e-4816-9e31-6bb7a2ad4001"
      },
      "execution_count": null,
      "outputs": [
        {
          "output_type": "execute_result",
          "data": {
            "text/plain": [
              "[('dahil', 'olmak', 'üzere'),\n",
              " ('olarak', 'kabul', 'edilir.'),\n",
              " ('ve', 'daha', 'sonra'),\n",
              " ('İlçenin', 'nüfusu', '2010'),\n",
              " ('nüfusu', '2010', 'sayımına'),\n",
              " ('2010', 'sayımına', 'göre'),\n",
              " ('yılı', 'itibarı', 'ile'),\n",
              " ('olarak', 'tespit', 'edilmiştir.'),\n",
              " ('nüfusu', '26', 'Kasım'),\n",
              " ('26', 'Kasım', '2009'),\n",
              " ('Kasım', '2009', 'tarihinde'),\n",
              " ('Şehrin', 'nüfusu', '26')]"
            ]
          },
          "metadata": {},
          "execution_count": 22
        }
      ]
    },
    {
      "cell_type": "code",
      "source": [],
      "metadata": {
        "id": "On4o92SYThpY"
      },
      "execution_count": null,
      "outputs": []
    }
  ]
}